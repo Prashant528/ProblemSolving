{
 "cells": [
  {
   "cell_type": "markdown",
   "id": "4846d5e2-7fa7-4dac-80f0-a995232829cc",
   "metadata": {},
   "source": [
    "# Code for quicksort"
   ]
  },
  {
   "cell_type": "code",
   "execution_count": 1,
   "id": "263090ee-9b2e-4c98-b842-74e447a7ab6a",
   "metadata": {},
   "outputs": [],
   "source": [
    "#function to swap the two given indices of an array\n",
    "def swap(arr, l, r):\n",
    "    left_item = arr[l]\n",
    "    right_item = arr[r]\n",
    "    arr[l] = right_item\n",
    "    arr[r] = left_item\n",
    "    return arr\n",
    "\n",
    "#This function returns the index of the pivot element, which will divide the array into two halves.\n",
    "#arr = given array\n",
    "#pivot = pivot element\n",
    "#l = left cursor\n",
    "#r = right cursor\n",
    "def partition(arr):\n",
    "    pivot = arr[0]\n",
    "    l = 0\n",
    "    r = len(arr)-1\n",
    "    while(l<r):\n",
    "        #increment l until an element greater than pivot is found\n",
    "        while(arr[l]<=pivot and l<r):\n",
    "            l = l+1\n",
    "        #decrement right cursor until an element lower than pivot is found\n",
    "        while(arr[r]>pivot and r>=l):\n",
    "            r = r-1\n",
    "        #if such elements are found\n",
    "        if(l < r):\n",
    "            arr = swap(arr, l ,r)        \n",
    "    arr = swap(arr, 0, r) #since pivot = arr[0]\n",
    "    pivot_index = r\n",
    "    return arr, pivot_index\n",
    "\n",
    "\n",
    "#quicksort function\n",
    "def quicksort(arr):\n",
    "    if(len(arr)==0 or len(arr)==1):\n",
    "        return arr\n",
    "    arr, pivot_index = partition(arr)\n",
    "    first_arr = quicksort(arr[0:pivot_index])\n",
    "    second_arr = quicksort(arr[pivot_index+1:])\n",
    "    return first_arr+[arr[pivot_index]]+second_arr\n"
   ]
  },
  {
   "cell_type": "markdown",
   "id": "b22e8202-c44a-4ad7-a67a-5af84536f5a2",
   "metadata": {},
   "source": [
    "# Code for Mergesort"
   ]
  },
  {
   "cell_type": "code",
   "execution_count": null,
   "id": "9b61f4a8-125d-4405-b49b-64899583e4ba",
   "metadata": {},
   "outputs": [],
   "source": [
    "#main function for merging\n",
    "def merge(arr1, arr2):\n",
    "    # i = len(arr1)\n",
    "    # j = len(arr2)\n",
    "    new_arr = []\n",
    "    i = 0\n",
    "    j = 0\n",
    "    #compare and insert into new array\n",
    "    while i<len(arr1) and j < len(arr2):\n",
    "        if arr1[i] <= arr2[j]:\n",
    "            new_arr.append(arr1[i])\n",
    "            i = i+1\n",
    "        elif arr1[i] > arr2[j]:\n",
    "            new_arr.append(arr2[j])\n",
    "            j = j+1\n",
    "    #for remaining elements\n",
    "    while i<len(arr1):\n",
    "        new_arr.append(arr1[i])\n",
    "        i = i+1\n",
    "    while j<len(arr1):\n",
    "        new_arr.append(arr2[j])\n",
    "        j = j+1\n",
    "    return new_arr\n",
    "\n",
    "#function to mergesort\n",
    "def mergesort(array):\n",
    "    if(len(array)==1 or len(arr)==0):\n",
    "        return array\n",
    "    \n",
    "    mid = len(array)//2\n",
    "    arr1  = mergesort(array[0:mid])\n",
    "    arr2 = mergesort(array[mid:])\n",
    "    return merge(arr1, arr2)"
   ]
  },
  {
   "cell_type": "markdown",
   "id": "8dd01c18-0b58-433c-836e-74aca205d5c9",
   "metadata": {},
   "source": [
    "# Test for correctness of quicksort and mergesort"
   ]
  },
  {
   "cell_type": "code",
   "execution_count": null,
   "id": "ffcab0a5-8e05-403b-b2d1-42838db8be47",
   "metadata": {},
   "outputs": [],
   "source": [
    "test_arr = [5,4,3,2,1,9,8,7,6,5,0]\n",
    "print(quicksort(test_arr))\n",
    "print(mergesort(test_arr))\n"
   ]
  },
  {
   "cell_type": "markdown",
   "id": "3b43c070-5368-4a0f-a69b-0037a4879c14",
   "metadata": {},
   "source": [
    "# Code for testing random arrays"
   ]
  },
  {
   "cell_type": "code",
   "execution_count": 2,
   "id": "b98620aa-26c6-4fb0-ad54-4aad1314b80f",
   "metadata": {},
   "outputs": [
    {
     "name": "stdout",
     "output_type": "stream",
     "text": [
      "3000\n",
      "100000\n",
      "loop:  1\n",
      "loop:  2\n",
      "loop:  3\n",
      "loop:  4\n",
      "loop:  5\n",
      "loop:  6\n",
      "loop:  7\n"
     ]
    },
    {
     "ename": "KeyboardInterrupt",
     "evalue": "",
     "output_type": "error",
     "traceback": [
      "\u001b[0;31m---------------------------------------------------------------------------\u001b[0m",
      "\u001b[0;31mKeyboardInterrupt\u001b[0m                         Traceback (most recent call last)",
      "Cell \u001b[0;32mIn[2], line 35\u001b[0m\n\u001b[1;32m     33\u001b[0m \u001b[38;5;66;03m# print(\"Starting for \", array);\u001b[39;00m\n\u001b[1;32m     34\u001b[0m start \u001b[38;5;241m=\u001b[39m time\u001b[38;5;241m.\u001b[39mprocess_time()\n\u001b[0;32m---> 35\u001b[0m \u001b[43mquicksort\u001b[49m\u001b[43m(\u001b[49m\u001b[43marray\u001b[49m\u001b[43m)\u001b[49m\n\u001b[1;32m     36\u001b[0m elapsed \u001b[38;5;241m=\u001b[39m time\u001b[38;5;241m.\u001b[39mprocess_time() \u001b[38;5;241m-\u001b[39m start\n\u001b[1;32m     37\u001b[0m quicksort_time_for_itr\u001b[38;5;241m.\u001b[39mappend(\u001b[38;5;28mround\u001b[39m(elapsed, \u001b[38;5;241m5\u001b[39m))\n",
      "Cell \u001b[0;32mIn[1], line 38\u001b[0m, in \u001b[0;36mquicksort\u001b[0;34m(arr)\u001b[0m\n\u001b[1;32m     36\u001b[0m     \u001b[38;5;28;01mreturn\u001b[39;00m arr\n\u001b[1;32m     37\u001b[0m arr, pivot_index \u001b[38;5;241m=\u001b[39m partition(arr)\n\u001b[0;32m---> 38\u001b[0m first_arr \u001b[38;5;241m=\u001b[39m \u001b[43mquicksort\u001b[49m\u001b[43m(\u001b[49m\u001b[43marr\u001b[49m\u001b[43m[\u001b[49m\u001b[38;5;241;43m0\u001b[39;49m\u001b[43m:\u001b[49m\u001b[43mpivot_index\u001b[49m\u001b[43m]\u001b[49m\u001b[43m)\u001b[49m\n\u001b[1;32m     39\u001b[0m second_arr \u001b[38;5;241m=\u001b[39m quicksort(arr[pivot_index\u001b[38;5;241m+\u001b[39m\u001b[38;5;241m1\u001b[39m:])\n\u001b[1;32m     40\u001b[0m \u001b[38;5;28;01mreturn\u001b[39;00m first_arr\u001b[38;5;241m+\u001b[39m[arr[pivot_index]]\u001b[38;5;241m+\u001b[39msecond_arr\n",
      "Cell \u001b[0;32mIn[1], line 38\u001b[0m, in \u001b[0;36mquicksort\u001b[0;34m(arr)\u001b[0m\n\u001b[1;32m     36\u001b[0m     \u001b[38;5;28;01mreturn\u001b[39;00m arr\n\u001b[1;32m     37\u001b[0m arr, pivot_index \u001b[38;5;241m=\u001b[39m partition(arr)\n\u001b[0;32m---> 38\u001b[0m first_arr \u001b[38;5;241m=\u001b[39m \u001b[43mquicksort\u001b[49m\u001b[43m(\u001b[49m\u001b[43marr\u001b[49m\u001b[43m[\u001b[49m\u001b[38;5;241;43m0\u001b[39;49m\u001b[43m:\u001b[49m\u001b[43mpivot_index\u001b[49m\u001b[43m]\u001b[49m\u001b[43m)\u001b[49m\n\u001b[1;32m     39\u001b[0m second_arr \u001b[38;5;241m=\u001b[39m quicksort(arr[pivot_index\u001b[38;5;241m+\u001b[39m\u001b[38;5;241m1\u001b[39m:])\n\u001b[1;32m     40\u001b[0m \u001b[38;5;28;01mreturn\u001b[39;00m first_arr\u001b[38;5;241m+\u001b[39m[arr[pivot_index]]\u001b[38;5;241m+\u001b[39msecond_arr\n",
      "    \u001b[0;31m[... skipping similar frames: quicksort at line 38 (30708 times)]\u001b[0m\n",
      "Cell \u001b[0;32mIn[1], line 38\u001b[0m, in \u001b[0;36mquicksort\u001b[0;34m(arr)\u001b[0m\n\u001b[1;32m     36\u001b[0m     \u001b[38;5;28;01mreturn\u001b[39;00m arr\n\u001b[1;32m     37\u001b[0m arr, pivot_index \u001b[38;5;241m=\u001b[39m partition(arr)\n\u001b[0;32m---> 38\u001b[0m first_arr \u001b[38;5;241m=\u001b[39m \u001b[43mquicksort\u001b[49m\u001b[43m(\u001b[49m\u001b[43marr\u001b[49m\u001b[43m[\u001b[49m\u001b[38;5;241;43m0\u001b[39;49m\u001b[43m:\u001b[49m\u001b[43mpivot_index\u001b[49m\u001b[43m]\u001b[49m\u001b[43m)\u001b[49m\n\u001b[1;32m     39\u001b[0m second_arr \u001b[38;5;241m=\u001b[39m quicksort(arr[pivot_index\u001b[38;5;241m+\u001b[39m\u001b[38;5;241m1\u001b[39m:])\n\u001b[1;32m     40\u001b[0m \u001b[38;5;28;01mreturn\u001b[39;00m first_arr\u001b[38;5;241m+\u001b[39m[arr[pivot_index]]\u001b[38;5;241m+\u001b[39msecond_arr\n",
      "Cell \u001b[0;32mIn[1], line 37\u001b[0m, in \u001b[0;36mquicksort\u001b[0;34m(arr)\u001b[0m\n\u001b[1;32m     35\u001b[0m \u001b[38;5;28;01mif\u001b[39;00m(\u001b[38;5;28mlen\u001b[39m(arr)\u001b[38;5;241m==\u001b[39m\u001b[38;5;241m0\u001b[39m \u001b[38;5;129;01mor\u001b[39;00m \u001b[38;5;28mlen\u001b[39m(arr)\u001b[38;5;241m==\u001b[39m\u001b[38;5;241m1\u001b[39m):\n\u001b[1;32m     36\u001b[0m     \u001b[38;5;28;01mreturn\u001b[39;00m arr\n\u001b[0;32m---> 37\u001b[0m arr, pivot_index \u001b[38;5;241m=\u001b[39m \u001b[43mpartition\u001b[49m\u001b[43m(\u001b[49m\u001b[43marr\u001b[49m\u001b[43m)\u001b[49m\n\u001b[1;32m     38\u001b[0m first_arr \u001b[38;5;241m=\u001b[39m quicksort(arr[\u001b[38;5;241m0\u001b[39m:pivot_index])\n\u001b[1;32m     39\u001b[0m second_arr \u001b[38;5;241m=\u001b[39m quicksort(arr[pivot_index\u001b[38;5;241m+\u001b[39m\u001b[38;5;241m1\u001b[39m:])\n",
      "Cell \u001b[0;32mIn[1], line 20\u001b[0m, in \u001b[0;36mpartition\u001b[0;34m(arr)\u001b[0m\n\u001b[1;32m     17\u001b[0m r \u001b[38;5;241m=\u001b[39m \u001b[38;5;28mlen\u001b[39m(arr)\u001b[38;5;241m-\u001b[39m\u001b[38;5;241m1\u001b[39m\n\u001b[1;32m     18\u001b[0m \u001b[38;5;28;01mwhile\u001b[39;00m(l\u001b[38;5;241m<\u001b[39mr):\n\u001b[1;32m     19\u001b[0m     \u001b[38;5;66;03m#increment l until an element greater than pivot is found\u001b[39;00m\n\u001b[0;32m---> 20\u001b[0m     \u001b[38;5;28;01mwhile\u001b[39;00m(arr[l]\u001b[38;5;241m<\u001b[39m\u001b[38;5;241m=\u001b[39mpivot \u001b[38;5;129;01mand\u001b[39;00m l\u001b[38;5;241m<\u001b[39mr):\n\u001b[1;32m     21\u001b[0m         l \u001b[38;5;241m=\u001b[39m l\u001b[38;5;241m+\u001b[39m\u001b[38;5;241m1\u001b[39m\n\u001b[1;32m     22\u001b[0m     \u001b[38;5;66;03m#decrement right cursor until an element lower than pivot is found\u001b[39;00m\n",
      "\u001b[0;31mKeyboardInterrupt\u001b[0m: "
     ]
    }
   ],
   "source": [
    "import random\n",
    "import sys\n",
    "import time\n",
    "import numpy\n",
    "\n",
    "#increasing recursion depth limit\n",
    "print(sys.getrecursionlimit())\n",
    "sys.setrecursionlimit(100000)\n",
    "print(sys.getrecursionlimit())\n",
    "\n",
    "runs=2\n",
    "itr_for_one_run = 7\n",
    "#2d array for holding time taken\n",
    "quicksort_total_time = []\n",
    "\n",
    "for run in range(runs):\n",
    "    quicksort_time_for_itr = []\n",
    "    for i in range(1, itr_for_one_run+1):\n",
    "        print(\"loop: \", i)\n",
    "        # minimum range of random numbers\n",
    "        lowerBound = 0\n",
    "         \n",
    "        # maximum range of random numbers\n",
    "        upperBound = 100\n",
    "    \n",
    "        #the size will keep on increasing by 100000 for each iteration\n",
    "        size = 10 ** i\n",
    "        array = [0]*size\n",
    "        \n",
    "        for j in range(size):\n",
    "            array[j] = int(random.uniform(0, upperBound - lowerBound) + lowerBound)\n",
    "        \n",
    "        # print(\"Starting for \", array);\n",
    "        start = time.process_time()\n",
    "        quicksort(array)\n",
    "        elapsed = time.process_time() - start\n",
    "        quicksort_time_for_itr.append(round(elapsed, 5))\n",
    "    # print(quicksort_time_for_itr)\n",
    "    quicksort_total_time.append(quicksort_time_for_itr)\n",
    "# print(quicksort_total_time)\n",
    "\n",
    "TwoDArray = numpy.array(quicksort_total_time)\n",
    "#averaging the runtime for each array length\n",
    "total_time = numpy.sum(TwoDArray, axis = 0)/runs\n",
    "print(total_time)\n"
   ]
  },
  {
   "cell_type": "code",
   "execution_count": null,
   "id": "46b9b2c0-d3ec-4891-886a-64af9c2c4fdd",
   "metadata": {},
   "outputs": [],
   "source": [
    "#plotting the results\n",
    "import matplotlib.pyplot as plt\n",
    "\n",
    "x_axis = [10**i for i in range(1,itr_for_one_run+1)]\n",
    "plt.plot(x_axis, total_time)\n",
    "plt.plot(x_axis, total_time, 'or')\n",
    "plt.show()"
   ]
  }
 ],
 "metadata": {
  "kernelspec": {
   "display_name": "Python 3 (ipykernel)",
   "language": "python",
   "name": "python3"
  },
  "language_info": {
   "codemirror_mode": {
    "name": "ipython",
    "version": 3
   },
   "file_extension": ".py",
   "mimetype": "text/x-python",
   "name": "python",
   "nbconvert_exporter": "python",
   "pygments_lexer": "ipython3",
   "version": "3.12.0"
  }
 },
 "nbformat": 4,
 "nbformat_minor": 5
}
